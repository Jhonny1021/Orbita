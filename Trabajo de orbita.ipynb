{
 "cells": [
  {
   "cell_type": "markdown",
   "metadata": {},
   "source": [
    "esto es texto y cosas de latex markdown\n"
   ]
  },
  {
   "cell_type": "markdown",
   "metadata": {},
   "source": [
    "Problema:\n",
    "    1) Calcule la altura sobre la superficie (h) terrestre a la que debe estar un satélite que órbita la Tierra con período T.\n",
    "    2) Escriba un programa que estime h a partir de un período\n",
    "dado.\n",
    "    3) Estime la altura para un T de un día (geosincrónico), 90\n",
    "min y 45 min.\n",
    "    4) Técnicamente, el período T de un     sátelite geosincrónico es por día sideral (23.93 h). Cuánta es la diferencia en h, para un período de 24 h?"
   ]
  },
  {
   "cell_type": "markdown",
   "metadata": {},
   "source": [
    "Solucion \n",
    "1)Para la solucion del primer punto buscamos la relacion entre la fuerza centrifuga y la fuerza gravitacional.\n",
    "\\begin{equation}\n",
    "F_{g}=\\frac{G*M1*M2}{R^2}\n",
    "\\end{equation}\n",
    "Donde R es igual a la altura del centro a la orbita \n",
    "\\begin{equation}\n",
    "F_{c}=\\frac{M2*V^2}{R}\n",
    "\\end{equation}\n",
    "Igualando ambas fuerzas y despejando R nos da que: \n",
    "\\begin{equation}\n",
    "R=\\sqrt[3]{\\frac{G*M2*T^2}{4\\pi^2}}\n",
    "\\end{equation}\n"
   ]
  },
  {
   "cell_type": "markdown",
   "metadata": {},
   "source": [
    "solucion 2)"
   ]
  },
  {
   "cell_type": "code",
   "execution_count": 63,
   "metadata": {},
   "outputs": [
    {
     "name": "stdout",
     "output_type": "stream",
     "text": [
      "entre el valor de T:86400\n",
      "La altura es: 35860559.26874481\n"
     ]
    }
   ],
   "source": [
    "g=6.67e-11\n",
    "r=6371000\n",
    "mt=5.972e24\n",
    "T=float(input(\"entre el valor de T:\"))\n",
    "h=(((T**2)*g*mt)/(4*((3.1416)**2)))**(1/3)\n",
    "print(\"La altura es:\",h-r)"
   ]
  },
  {
   "cell_type": "markdown",
   "metadata": {},
   "source": [
    "Donde \n",
    "g:Constante gracitatoria universal\n",
    "\n",
    "r:Radio de la tierra \n",
    "\n",
    "mt:Masa de la tierra \n",
    "\n",
    "T:Periodo\n",
    "\n",
    "h:Distancia del centro al orbital"
   ]
  },
  {
   "cell_type": "markdown",
   "metadata": {},
   "source": [
    "Solucion 3) y Solucion 4)\n",
    "Tomando el cogido anterior resolvemos las siguientes estimaciones.\n",
    "\n",
    "Aproximacion altura para periodo de un dia geosincronico:35860 km\n",
    "\n",
    "Aproximacion altura para periodo de un 90 minutos:286 km\n",
    "\n",
    "Aproximacion altura para periodo de un 45 minutos:-217 km\n",
    "\n",
    "Aproximacion altura para periodo de un dia sideral 23,94 horas:35812 km\n",
    "\n",
    "La diferencia entre la de 24 horas y 23,94:28 km"
   ]
  },
  {
   "cell_type": "code",
   "execution_count": null,
   "metadata": {},
   "outputs": [],
   "source": []
  }
 ],
 "metadata": {
  "kernelspec": {
   "display_name": "Python 3",
   "language": "python",
   "name": "python3"
  },
  "language_info": {
   "codemirror_mode": {
    "name": "ipython",
    "version": 3
   },
   "file_extension": ".py",
   "mimetype": "text/x-python",
   "name": "python",
   "nbconvert_exporter": "python",
   "pygments_lexer": "ipython3",
   "version": "3.7.3"
  }
 },
 "nbformat": 4,
 "nbformat_minor": 2
}
